{
 "cells": [
  {
   "cell_type": "markdown",
   "id": "3358e4f8-63b8-4b17-a3b1-2422c76e63e4",
   "metadata": {},
   "source": [
    "# Data Science Tools and Ecosystem"
   ]
  },
  {
   "cell_type": "markdown",
   "id": "bc1d9e8b-e42c-430b-ae5f-ffc5c7c76ebf",
   "metadata": {},
   "source": [
    "In this notebook, Data Science Tools and Ecosystem are summarized."
   ]
  },
  {
   "cell_type": "markdown",
   "id": "fc7064cd-3f43-44f1-bfbb-2829f7dab84d",
   "metadata": {},
   "source": [
    "Some of the popular languages that Data Scientists use are:\n",
    "1. Python\n",
    "2. R\n",
    "3. SQL\n",
    "4. Julia\n",
    "5. Java"
   ]
  },
  {
   "cell_type": "markdown",
   "id": "14e09d04-80b6-408f-84ca-036e0073f2e8",
   "metadata": {},
   "source": [
    "Some of the commonly used libraries used by Data Scientists include:\n",
    "1. Pandas\n",
    "2. NumPy\n",
    "3. Scikit-learn\n",
    "4. TensorFlow\n",
    "5. Matplotlib"
   ]
  },
  {
   "cell_type": "markdown",
   "id": "6de949e5-b4df-491c-807e-436270ba2768",
   "metadata": {},
   "source": [
    "| Data Science Tools       |\n",
    "|--------------------------|\n",
    "| Jupyter Notebooks         |\n",
    "| RStudio                   |\n",
    "| Visual Studio Code (VS Code) |"
   ]
  },
  {
   "cell_type": "markdown",
   "id": "1c1ba4e2-e96a-4030-a6fb-7462495e38bf",
   "metadata": {},
   "source": [
    "### Below are a few examples of evaluating arithmetic expressions in Python.\n",
    "Addition: 10 + 5 = 15\n",
    "\n",
    "Subtraction: 20 - 8 = 12\n",
    "\n",
    "Multiplication: 8 * 66 = 528\n",
    "\n",
    "Division: 30 / 2 = 15\n",
    "\n",
    "Exponentiation: 4 ** 6 = 496"
   ]
  },
  {
   "cell_type": "code",
   "execution_count": 4,
   "id": "151f9370-d8c7-4971-8300-d5f37f83ea9e",
   "metadata": {},
   "outputs": [
    {
     "data": {
      "text/plain": [
       "17"
      ]
     },
     "execution_count": 4,
     "metadata": {},
     "output_type": "execute_result"
    }
   ],
   "source": [
    "# This a simple arithmetic expression to multiply then add integers\n",
    "(3 * 4) + 5"
   ]
  },
  {
   "cell_type": "code",
   "execution_count": 1,
   "id": "b6106b8c-34e2-4d50-ab24-d3bd3e4fb9f5",
   "metadata": {},
   "outputs": [
    {
     "data": {
      "text/plain": [
       "3.3333333333333335"
      ]
     },
     "execution_count": 1,
     "metadata": {},
     "output_type": "execute_result"
    }
   ],
   "source": [
    "# This will convert 200 minutes to hours by dividing by 60\n",
    "200 / 60"
   ]
  },
  {
   "cell_type": "markdown",
   "id": "bbd9d7c8-7730-4048-8894-382053053011",
   "metadata": {},
   "source": [
    "**Objectives:**\n",
    "- List popular languages for Data Science.\n",
    "- Identify common data science libraries.\n",
    "- Explore development tools used in data science.\n",
    "- Perform basic arithmetic operations in Python.\n",
    "- Convert time units using Python."
   ]
  },
  {
   "cell_type": "markdown",
   "id": "8072adc4-dc8e-4113-944a-54bfc6c0b0cc",
   "metadata": {},
   "source": [
    "## Author\n",
    "Jose Catalan Espinoza"
   ]
  },
  {
   "cell_type": "code",
   "execution_count": null,
   "id": "730476d3-5ffc-48e2-9200-e0968c545f7b",
   "metadata": {},
   "outputs": [],
   "source": []
  }
 ],
 "metadata": {
  "kernelspec": {
   "display_name": "Python 3 (ipykernel)",
   "language": "python",
   "name": "python3"
  },
  "language_info": {
   "codemirror_mode": {
    "name": "ipython",
    "version": 3
   },
   "file_extension": ".py",
   "mimetype": "text/x-python",
   "name": "python",
   "nbconvert_exporter": "python",
   "pygments_lexer": "ipython3",
   "version": "3.11.9"
  }
 },
 "nbformat": 4,
 "nbformat_minor": 5
}
